{
 "cells": [
  {
   "cell_type": "code",
   "execution_count": null,
   "metadata": {},
   "outputs": [],
   "source": [
    "# 데이터 변환을 통해 다시 시도"
   ]
  },
  {
   "cell_type": "code",
   "execution_count": 1,
   "metadata": {},
   "outputs": [],
   "source": [
    "import pandas as pd\n",
    "import numpy as np\n",
    "# 파일 저장및 불러오기 모듈\n",
    "import bz2\n",
    "import pickle\n",
    "import _pickle as cPickle\n",
    "from sklearn.model_selection import train_test_split\n",
    "from sklearn.linear_model import LinearRegression\n",
    "from sklearn.metrics import mean_squared_error, r2_score"
   ]
  },
  {
   "cell_type": "code",
   "execution_count": 2,
   "metadata": {},
   "outputs": [
    {
     "data": {
      "text/html": [
       "<div>\n",
       "<style scoped>\n",
       "    .dataframe tbody tr th:only-of-type {\n",
       "        vertical-align: middle;\n",
       "    }\n",
       "\n",
       "    .dataframe tbody tr th {\n",
       "        vertical-align: top;\n",
       "    }\n",
       "\n",
       "    .dataframe thead th {\n",
       "        text-align: right;\n",
       "    }\n",
       "</style>\n",
       "<table border=\"1\" class=\"dataframe\">\n",
       "  <thead>\n",
       "    <tr style=\"text-align: right;\">\n",
       "      <th></th>\n",
       "      <th>index</th>\n",
       "      <th>fare_amount</th>\n",
       "      <th>pickup_datetime</th>\n",
       "      <th>pickup_longitude</th>\n",
       "      <th>pickup_latitude</th>\n",
       "      <th>dropoff_longitude</th>\n",
       "      <th>dropoff_latitude</th>\n",
       "      <th>year</th>\n",
       "      <th>month</th>\n",
       "      <th>day</th>\n",
       "      <th>hour</th>\n",
       "      <th>distance</th>\n",
       "      <th>date</th>\n",
       "    </tr>\n",
       "  </thead>\n",
       "  <tbody>\n",
       "    <tr>\n",
       "      <th>16973830</th>\n",
       "      <td>52263852</td>\n",
       "      <td>10.9</td>\n",
       "      <td>2011-01-13 11:20:00+00:00</td>\n",
       "      <td>-73.957230</td>\n",
       "      <td>40.768910</td>\n",
       "      <td>-73.977330</td>\n",
       "      <td>40.757120</td>\n",
       "      <td>2011</td>\n",
       "      <td>1</td>\n",
       "      <td>13</td>\n",
       "      <td>11</td>\n",
       "      <td>0.023303</td>\n",
       "      <td>4</td>\n",
       "    </tr>\n",
       "    <tr>\n",
       "      <th>50034343</th>\n",
       "      <td>43209749</td>\n",
       "      <td>10.5</td>\n",
       "      <td>2009-12-02 08:34:00+00:00</td>\n",
       "      <td>-73.982773</td>\n",
       "      <td>40.721264</td>\n",
       "      <td>-74.006119</td>\n",
       "      <td>40.705658</td>\n",
       "      <td>2009</td>\n",
       "      <td>12</td>\n",
       "      <td>2</td>\n",
       "      <td>8</td>\n",
       "      <td>0.028082</td>\n",
       "      <td>4</td>\n",
       "    </tr>\n",
       "    <tr>\n",
       "      <th>21507333</th>\n",
       "      <td>10798948</td>\n",
       "      <td>8.5</td>\n",
       "      <td>2010-08-19 09:59:00+00:00</td>\n",
       "      <td>-73.991150</td>\n",
       "      <td>40.755035</td>\n",
       "      <td>-73.995796</td>\n",
       "      <td>40.743389</td>\n",
       "      <td>2010</td>\n",
       "      <td>8</td>\n",
       "      <td>19</td>\n",
       "      <td>9</td>\n",
       "      <td>0.012539</td>\n",
       "      <td>5</td>\n",
       "    </tr>\n",
       "    <tr>\n",
       "      <th>21340781</th>\n",
       "      <td>10285876</td>\n",
       "      <td>17.0</td>\n",
       "      <td>2012-09-22 21:41:00+00:00</td>\n",
       "      <td>-73.955482</td>\n",
       "      <td>40.765823</td>\n",
       "      <td>-74.003212</td>\n",
       "      <td>40.732883</td>\n",
       "      <td>2012</td>\n",
       "      <td>9</td>\n",
       "      <td>22</td>\n",
       "      <td>21</td>\n",
       "      <td>0.057993</td>\n",
       "      <td>5</td>\n",
       "    </tr>\n",
       "    <tr>\n",
       "      <th>22732867</th>\n",
       "      <td>14570581</td>\n",
       "      <td>4.5</td>\n",
       "      <td>2011-07-31 21:35:00+00:00</td>\n",
       "      <td>-73.937157</td>\n",
       "      <td>40.797829</td>\n",
       "      <td>-73.948235</td>\n",
       "      <td>40.797256</td>\n",
       "      <td>2011</td>\n",
       "      <td>7</td>\n",
       "      <td>31</td>\n",
       "      <td>21</td>\n",
       "      <td>0.011093</td>\n",
       "      <td>1</td>\n",
       "    </tr>\n",
       "    <tr>\n",
       "      <th>...</th>\n",
       "      <td>...</td>\n",
       "      <td>...</td>\n",
       "      <td>...</td>\n",
       "      <td>...</td>\n",
       "      <td>...</td>\n",
       "      <td>...</td>\n",
       "      <td>...</td>\n",
       "      <td>...</td>\n",
       "      <td>...</td>\n",
       "      <td>...</td>\n",
       "      <td>...</td>\n",
       "      <td>...</td>\n",
       "      <td>...</td>\n",
       "    </tr>\n",
       "    <tr>\n",
       "      <th>35781699</th>\n",
       "      <td>54747850</td>\n",
       "      <td>14.5</td>\n",
       "      <td>2010-05-08 00:31:00+00:00</td>\n",
       "      <td>-73.991417</td>\n",
       "      <td>40.685246</td>\n",
       "      <td>-73.985046</td>\n",
       "      <td>40.719112</td>\n",
       "      <td>2010</td>\n",
       "      <td>5</td>\n",
       "      <td>8</td>\n",
       "      <td>0</td>\n",
       "      <td>0.034461</td>\n",
       "      <td>7</td>\n",
       "    </tr>\n",
       "    <tr>\n",
       "      <th>24537187</th>\n",
       "      <td>20126125</td>\n",
       "      <td>7.5</td>\n",
       "      <td>2013-09-29 10:12:00+00:00</td>\n",
       "      <td>-73.988068</td>\n",
       "      <td>40.774788</td>\n",
       "      <td>-73.964958</td>\n",
       "      <td>40.769314</td>\n",
       "      <td>2013</td>\n",
       "      <td>9</td>\n",
       "      <td>29</td>\n",
       "      <td>10</td>\n",
       "      <td>0.023749</td>\n",
       "      <td>1</td>\n",
       "    </tr>\n",
       "    <tr>\n",
       "      <th>34836143</th>\n",
       "      <td>51836212</td>\n",
       "      <td>6.5</td>\n",
       "      <td>2011-01-07 15:31:00+00:00</td>\n",
       "      <td>-73.961243</td>\n",
       "      <td>40.765144</td>\n",
       "      <td>-73.975494</td>\n",
       "      <td>40.760227</td>\n",
       "      <td>2011</td>\n",
       "      <td>1</td>\n",
       "      <td>7</td>\n",
       "      <td>15</td>\n",
       "      <td>0.015076</td>\n",
       "      <td>5</td>\n",
       "    </tr>\n",
       "    <tr>\n",
       "      <th>40436048</th>\n",
       "      <td>13654877</td>\n",
       "      <td>13.5</td>\n",
       "      <td>2014-02-12 12:13:00+00:00</td>\n",
       "      <td>-73.789612</td>\n",
       "      <td>40.647606</td>\n",
       "      <td>-73.771423</td>\n",
       "      <td>40.659283</td>\n",
       "      <td>2014</td>\n",
       "      <td>2</td>\n",
       "      <td>12</td>\n",
       "      <td>12</td>\n",
       "      <td>0.021614</td>\n",
       "      <td>3</td>\n",
       "    </tr>\n",
       "    <tr>\n",
       "      <th>9199245</th>\n",
       "      <td>28327287</td>\n",
       "      <td>13.0</td>\n",
       "      <td>2015-06-24 13:26:00+00:00</td>\n",
       "      <td>-73.959620</td>\n",
       "      <td>40.776585</td>\n",
       "      <td>-73.977280</td>\n",
       "      <td>40.757090</td>\n",
       "      <td>2015</td>\n",
       "      <td>6</td>\n",
       "      <td>24</td>\n",
       "      <td>13</td>\n",
       "      <td>0.026305</td>\n",
       "      <td>4</td>\n",
       "    </tr>\n",
       "  </tbody>\n",
       "</table>\n",
       "<p>5400000 rows × 13 columns</p>\n",
       "</div>"
      ],
      "text/plain": [
       "             index  fare_amount            pickup_datetime  pickup_longitude  \\\n",
       "16973830  52263852         10.9  2011-01-13 11:20:00+00:00        -73.957230   \n",
       "50034343  43209749         10.5  2009-12-02 08:34:00+00:00        -73.982773   \n",
       "21507333  10798948          8.5  2010-08-19 09:59:00+00:00        -73.991150   \n",
       "21340781  10285876         17.0  2012-09-22 21:41:00+00:00        -73.955482   \n",
       "22732867  14570581          4.5  2011-07-31 21:35:00+00:00        -73.937157   \n",
       "...            ...          ...                        ...               ...   \n",
       "35781699  54747850         14.5  2010-05-08 00:31:00+00:00        -73.991417   \n",
       "24537187  20126125          7.5  2013-09-29 10:12:00+00:00        -73.988068   \n",
       "34836143  51836212          6.5  2011-01-07 15:31:00+00:00        -73.961243   \n",
       "40436048  13654877         13.5  2014-02-12 12:13:00+00:00        -73.789612   \n",
       "9199245   28327287         13.0  2015-06-24 13:26:00+00:00        -73.959620   \n",
       "\n",
       "          pickup_latitude  dropoff_longitude  dropoff_latitude  year month  \\\n",
       "16973830        40.768910         -73.977330         40.757120  2011     1   \n",
       "50034343        40.721264         -74.006119         40.705658  2009    12   \n",
       "21507333        40.755035         -73.995796         40.743389  2010     8   \n",
       "21340781        40.765823         -74.003212         40.732883  2012     9   \n",
       "22732867        40.797829         -73.948235         40.797256  2011     7   \n",
       "...                   ...                ...               ...   ...   ...   \n",
       "35781699        40.685246         -73.985046         40.719112  2010     5   \n",
       "24537187        40.774788         -73.964958         40.769314  2013     9   \n",
       "34836143        40.765144         -73.975494         40.760227  2011     1   \n",
       "40436048        40.647606         -73.771423         40.659283  2014     2   \n",
       "9199245         40.776585         -73.977280         40.757090  2015     6   \n",
       "\n",
       "          day hour  distance date  \n",
       "16973830   13   11  0.023303    4  \n",
       "50034343    2    8  0.028082    4  \n",
       "21507333   19    9  0.012539    5  \n",
       "21340781   22   21  0.057993    5  \n",
       "22732867   31   21  0.011093    1  \n",
       "...       ...  ...       ...  ...  \n",
       "35781699    8    0  0.034461    7  \n",
       "24537187   29   10  0.023749    1  \n",
       "34836143    7   15  0.015076    5  \n",
       "40436048   12   12  0.021614    3  \n",
       "9199245    24   13  0.026305    4  \n",
       "\n",
       "[5400000 rows x 13 columns]"
      ]
     },
     "execution_count": 2,
     "metadata": {},
     "output_type": "execute_result"
    }
   ],
   "source": [
    "def decompress_pickle(file):\n",
    "    data = bz2.BZ2File(file, 'rb')\n",
    "    data = cPickle.load(data)\n",
    "    return data\n",
    "# 불러온 데이터는 전처리 완료된 데이터들이 분할된 형태\n",
    "data = decompress_pickle('texi_train/adddate.pbz2')\n",
    "data"
   ]
  },
  {
   "cell_type": "code",
   "execution_count": 3,
   "metadata": {},
   "outputs": [],
   "source": [
    "a = pd.get_dummies(data[[\"year\",'month','hour','date']])\n",
    "x_data =data[[\"pickup_longitude\",\"pickup_latitude\", \"dropoff_longitude\", \"dropoff_latitude\", \"distance\"]]\n",
    "y_target = data[\"fare_amount\"]\n",
    "a[[\"pickup_longitude\",\"pickup_latitude\", \"dropoff_longitude\", \"dropoff_latitude\", \"distance\"]] = data[[\"pickup_longitude\",\"pickup_latitude\", \"dropoff_longitude\", \"dropoff_latitude\", \"distance\"]]\n",
    "x_data = a"
   ]
  },
  {
   "cell_type": "code",
   "execution_count": 4,
   "metadata": {},
   "outputs": [],
   "source": [
    "# x_data =data[[\"pickup_longitude\",\"pickup_latitude\", \"dropoff_longitude\", \"dropoff_latitude\", \"year\", \"month\", \"hour\", \"distance\"]]\n",
    "# y_target = data[\"fare_amount\"]"
   ]
  },
  {
   "cell_type": "code",
   "execution_count": 5,
   "metadata": {},
   "outputs": [],
   "source": [
    "from sklearn.model_selection import train_test_split, GridSearchCV\n",
    "from sklearn.linear_model import LinearRegression, Ridge, Lasso, ElasticNet\n",
    "from sklearn.metrics import mean_squared_error, r2_score\n",
    "from sklearn.preprocessing import PolynomialFeatures\n",
    "from sklearn.pipeline import Pipeline\n",
    "from sklearn.model_selection import cross_val_score\n",
    "import matplotlib.pyplot as plt\n",
    "import seaborn as sns"
   ]
  },
  {
   "cell_type": "code",
   "execution_count": 5,
   "metadata": {},
   "outputs": [
    {
     "name": "stdout",
     "output_type": "stream",
     "text": [
      "[13.06194168  8.96196421  7.26284625 ...  4.95891119  6.69604488\n",
      "  5.45407089]\n"
     ]
    }
   ],
   "source": [
    "x_train, x_test, y_train, y_test = train_test_split(x_data, y_target, test_size=0.2, random_state=1)\n",
    "\n",
    "lr_reg = LinearRegression()\n",
    "lr_reg.fit(x_train, y_train)\n",
    "pred = lr_reg.predict(x_test)\n",
    "print(pred)"
   ]
  },
  {
   "cell_type": "code",
   "execution_count": 6,
   "metadata": {},
   "outputs": [],
   "source": [
    "y_train = np.log1p(y_train)"
   ]
  },
  {
   "cell_type": "code",
   "execution_count": 27,
   "metadata": {},
   "outputs": [],
   "source": [
    "y_target = np.log1p(y_target)"
   ]
  },
  {
   "cell_type": "code",
   "execution_count": 12,
   "metadata": {},
   "outputs": [
    {
     "data": {
      "text/plain": [
       "<matplotlib.axes._subplots.AxesSubplot at 0x1e841820a08>"
      ]
     },
     "execution_count": 12,
     "metadata": {},
     "output_type": "execute_result"
    },
    {
     "data": {
      "image/png": "[encoded data removed]",
      "text/plain": [
       "<Figure size 720x432 with 1 Axes>"
      ]
     },
     "metadata": {
      "needs_background": "light"
     },
     "output_type": "display_data"
    }
   ],
   "source": [
    "plt.figure(figsize=(10,6))\n",
    "sns.distplot(y_train)\n"
   ]
  },
  {
   "cell_type": "code",
   "execution_count": 13,
   "metadata": {},
   "outputs": [
    {
     "name": "stdout",
     "output_type": "stream",
     "text": [
      "MAE: 2.219\n",
      "MSE: 23.426\n",
      "RMSE:  4.840\n"
     ]
    }
   ],
   "source": [
    "from sklearn.metrics import mean_squared_error, mean_absolute_error\n",
    "mae_val = mean_absolute_error(y_test, pred)\n",
    "print(\"MAE: {0:.3F}\".format(mae_val))\n",
    "mse_val = mean_squared_error(y_test, pred)\n",
    "print(\"MSE: {0:.3F}\".format(mse_val))\n",
    "rmse_val = np.sqrt(mse_val)\n",
    "print(\"RMSE: {0: .3F}\".format(rmse_val))"
   ]
  },
  {
   "cell_type": "code",
   "execution_count": 6,
   "metadata": {},
   "outputs": [],
   "source": [
    "from sklearn.metrics import mean_squared_error, mean_absolute_error\n",
    "from sklearn.preprocessing import StandardScaler , MinMaxScaler, PolynomialFeatures\n",
    "# StandardScaler : 표준 정규분포\n",
    "# MinMaxScaler : 최대값/최소값 정규화\n",
    "# 로그 변환"
   ]
  },
  {
   "cell_type": "code",
   "execution_count": 7,
   "metadata": {},
   "outputs": [],
   "source": [
    "# 기존 데이터 스케일 변환 시키는 함수\n",
    "def get_scaled_data(method='None', p_degree=None, input_data=None):\n",
    "    if method == 'Standard':\n",
    "        scaled_data = StandardScaler().fit_transform(input_data)\n",
    "    elif method == 'MinMax':\n",
    "        scaled_data = MinMaxScaler().fit_transform(input_data)\n",
    "    elif method == 'Log':\n",
    "        scaled_data = np.log1p(input_data)\n",
    "    else:\n",
    "        scaled_data = input_data\n",
    "        \n",
    "    if p_degree != None:\n",
    "        scaled_data = PolynomialFeatures(degree=p_degree, include_bias=False).fit_transform(scaled_data)\n",
    "        \n",
    "    return scaled_data"
   ]
  },
  {
   "cell_type": "code",
   "execution_count": 8,
   "metadata": {},
   "outputs": [],
   "source": [
    "def rmse(y, pred):\n",
    "    return np.sqrt(mean_squared_error(y, pred))\n",
    "def evaluate_regr(y, pred):\n",
    "#     rmsle_val = rmsle(y, pred)\n",
    "    rmse_val = rmse(y, pred)\n",
    "#     rmsle_val = rmsle(y, pred)\n",
    "    mae_val = mean_absolute_error(y, pred)\n",
    "    print(\"RMSE : {0:.3F}, MAE : {1:.3F}, RMSLE: {2:.3F}\".format(rmse_val, mae_val, rmsle_val))"
   ]
  },
  {
   "cell_type": "code",
   "execution_count": 11,
   "metadata": {},
   "outputs": [],
   "source": [
    "def get_linear_reg_eval (model_name, params=None, x_data_n=None, y_target_n = None, verbose=True):\n",
    "    coeff_df = pd.DataFrame()\n",
    "    print(\"####\",model_name,\"####\")\n",
    "    # alpha 값을 바꿔가며 반복\n",
    "    for param in params:\n",
    "        if model_name =='Ridge': model = Ridge(alpha=param)\n",
    "        elif model_name =='Lasso': model = Lasso(alpha=param)\n",
    "        elif model_name =='ElasticNet': model = ElasticNet(alpha=param, l1_ratio=0.7)\n",
    "        elif model_name == 'Linear' : model = LinearRegression()\n",
    "            \n",
    "        x_train, x_test, y_train, y_test = train_test_split(x_data_n, y_target_n, test_size=0.3, random_state=1)\n",
    "          \n",
    "#         neg_mse_scores = cross_val_score(model, x_data_n, y_target_n, scoring=\"neg_mean_squared_error\", cv=4)\n",
    "#         avg_rmse = np.mean(np.sqrt(-1*neg_mse_scores))\n",
    "#         print(\"alpha {0} 의 5 folds의 평균 RMSE score:{1:.3f}\".format(param, avg_rmse))\n",
    "        # 모델 학습 시키기\n",
    "        model.fit(x_train, y_train)        \n",
    "        pred = model.predict(x_test)\n",
    "#         evaluate_regr(np.expm1(y_test),np.expm1(pred))\n",
    "        rmse = np.sqrt(y_test, pred)\n",
    "        print('rmse:',rmse)\n",
    "        coeff = pd.Series(data=model.coef_, index=x_data.columns)        \n",
    "    return coeff_df\n",
    "          "
   ]
  },
  {
   "cell_type": "code",
   "execution_count": 12,
   "metadata": {},
   "outputs": [
    {
     "name": "stdout",
     "output_type": "stream",
     "text": [
      "\n",
      " 변환유형 :None, Degree : None\n",
      "#### Linear ####\n",
      "rmse: 23448123    2.915476\n",
      "53515540    3.301515\n",
      "34350215    3.316625\n",
      "19719386    1.816590\n",
      "15707714    2.774887\n",
      "              ...   \n",
      "6673919     2.645751\n",
      "21625153    2.915476\n",
      "22969383    3.962323\n",
      "47504116    2.121320\n",
      "36018700    5.000000\n",
      "Name: fare_amount, Length: 1620000, dtype: float64\n",
      "\n",
      " 변환유형 :Standard, Degree : None\n",
      "#### Linear ####\n",
      "rmse: 23448123    2.915476\n",
      "53515540    3.301515\n",
      "34350215    3.316625\n",
      "19719386    1.816590\n",
      "15707714    2.774887\n",
      "              ...   \n",
      "6673919     2.645751\n",
      "21625153    2.915476\n",
      "22969383    3.962323\n",
      "47504116    2.121320\n",
      "36018700    5.000000\n",
      "Name: fare_amount, Length: 1620000, dtype: float64\n"
     ]
    },
    {
     "ename": "MemoryError",
     "evalue": "Unable to allocate 64.2 GiB for an array with shape (5400000, 1595) and data type float64",
     "output_type": "error",
     "traceback": [
      "\u001b[1;31m---------------------------------------------------------------------------\u001b[0m",
      "\u001b[1;31mMemoryError\u001b[0m                               Traceback (most recent call last)",
      "\u001b[1;32m<ipython-input-12-c4ba674d43d0>\u001b[0m in \u001b[0;36m<module>\u001b[1;34m\u001b[0m\n\u001b[0;32m      4\u001b[0m \u001b[1;33m\u001b[0m\u001b[0m\n\u001b[0;32m      5\u001b[0m \u001b[1;32mfor\u001b[0m \u001b[0mscale\u001b[0m \u001b[1;32min\u001b[0m \u001b[0mscale_methods\u001b[0m\u001b[1;33m:\u001b[0m\u001b[1;33m\u001b[0m\u001b[1;33m\u001b[0m\u001b[0m\n\u001b[1;32m----> 6\u001b[1;33m     \u001b[0mx_data_scaled\u001b[0m \u001b[1;33m=\u001b[0m \u001b[0mget_scaled_data\u001b[0m\u001b[1;33m(\u001b[0m\u001b[0mmethod\u001b[0m\u001b[1;33m=\u001b[0m\u001b[0mscale\u001b[0m\u001b[1;33m[\u001b[0m\u001b[1;36m0\u001b[0m\u001b[1;33m]\u001b[0m\u001b[1;33m,\u001b[0m \u001b[0mp_degree\u001b[0m\u001b[1;33m=\u001b[0m\u001b[0mscale\u001b[0m\u001b[1;33m[\u001b[0m\u001b[1;36m1\u001b[0m\u001b[1;33m]\u001b[0m\u001b[1;33m,\u001b[0m \u001b[0minput_data\u001b[0m\u001b[1;33m=\u001b[0m\u001b[0mx_data\u001b[0m\u001b[1;33m)\u001b[0m\u001b[1;33m\u001b[0m\u001b[1;33m\u001b[0m\u001b[0m\n\u001b[0m\u001b[0;32m      7\u001b[0m     \u001b[0mprint\u001b[0m\u001b[1;33m(\u001b[0m\u001b[1;34m\"\\n 변환유형 :{0}, Degree : {1}\"\u001b[0m\u001b[1;33m.\u001b[0m\u001b[0mformat\u001b[0m\u001b[1;33m(\u001b[0m\u001b[0mscale\u001b[0m\u001b[1;33m[\u001b[0m\u001b[1;36m0\u001b[0m\u001b[1;33m]\u001b[0m\u001b[1;33m,\u001b[0m \u001b[0mscale\u001b[0m\u001b[1;33m[\u001b[0m\u001b[1;36m1\u001b[0m\u001b[1;33m]\u001b[0m\u001b[1;33m)\u001b[0m\u001b[1;33m)\u001b[0m\u001b[1;33m\u001b[0m\u001b[1;33m\u001b[0m\u001b[0m\n\u001b[0;32m      8\u001b[0m     \u001b[0mget_linear_reg_eval\u001b[0m\u001b[1;33m(\u001b[0m\u001b[1;34m'Linear'\u001b[0m\u001b[1;33m,\u001b[0m \u001b[0mparams\u001b[0m\u001b[1;33m=\u001b[0m\u001b[0malphas\u001b[0m\u001b[1;33m,\u001b[0m \u001b[0mx_data_n\u001b[0m \u001b[1;33m=\u001b[0m \u001b[0mx_data_scaled\u001b[0m\u001b[1;33m,\u001b[0m \u001b[0my_target_n\u001b[0m\u001b[1;33m=\u001b[0m\u001b[0my_target\u001b[0m\u001b[1;33m,\u001b[0m \u001b[0mverbose\u001b[0m\u001b[1;33m=\u001b[0m\u001b[1;32mFalse\u001b[0m\u001b[1;33m)\u001b[0m\u001b[1;33m\u001b[0m\u001b[1;33m\u001b[0m\u001b[0m\n",
      "\u001b[1;32m<ipython-input-7-d1f80f539ee3>\u001b[0m in \u001b[0;36mget_scaled_data\u001b[1;34m(method, p_degree, input_data)\u001b[0m\n\u001b[0;32m     11\u001b[0m \u001b[1;33m\u001b[0m\u001b[0m\n\u001b[0;32m     12\u001b[0m     \u001b[1;32mif\u001b[0m \u001b[0mp_degree\u001b[0m \u001b[1;33m!=\u001b[0m \u001b[1;32mNone\u001b[0m\u001b[1;33m:\u001b[0m\u001b[1;33m\u001b[0m\u001b[1;33m\u001b[0m\u001b[0m\n\u001b[1;32m---> 13\u001b[1;33m         \u001b[0mscaled_data\u001b[0m \u001b[1;33m=\u001b[0m \u001b[0mPolynomialFeatures\u001b[0m\u001b[1;33m(\u001b[0m\u001b[0mdegree\u001b[0m\u001b[1;33m=\u001b[0m\u001b[0mp_degree\u001b[0m\u001b[1;33m,\u001b[0m \u001b[0minclude_bias\u001b[0m\u001b[1;33m=\u001b[0m\u001b[1;32mFalse\u001b[0m\u001b[1;33m)\u001b[0m\u001b[1;33m.\u001b[0m\u001b[0mfit_transform\u001b[0m\u001b[1;33m(\u001b[0m\u001b[0mscaled_data\u001b[0m\u001b[1;33m)\u001b[0m\u001b[1;33m\u001b[0m\u001b[1;33m\u001b[0m\u001b[0m\n\u001b[0m\u001b[0;32m     14\u001b[0m \u001b[1;33m\u001b[0m\u001b[0m\n\u001b[0;32m     15\u001b[0m     \u001b[1;32mreturn\u001b[0m \u001b[0mscaled_data\u001b[0m\u001b[1;33m\u001b[0m\u001b[1;33m\u001b[0m\u001b[0m\n",
      "\u001b[1;32mC:\\ProgramData\\Anaconda3\\lib\\site-packages\\sklearn\\base.py\u001b[0m in \u001b[0;36mfit_transform\u001b[1;34m(self, X, y, **fit_params)\u001b[0m\n\u001b[0;32m    551\u001b[0m         \u001b[1;32mif\u001b[0m \u001b[0my\u001b[0m \u001b[1;32mis\u001b[0m \u001b[1;32mNone\u001b[0m\u001b[1;33m:\u001b[0m\u001b[1;33m\u001b[0m\u001b[1;33m\u001b[0m\u001b[0m\n\u001b[0;32m    552\u001b[0m             \u001b[1;31m# fit method of arity 1 (unsupervised transformation)\u001b[0m\u001b[1;33m\u001b[0m\u001b[1;33m\u001b[0m\u001b[1;33m\u001b[0m\u001b[0m\n\u001b[1;32m--> 553\u001b[1;33m             \u001b[1;32mreturn\u001b[0m \u001b[0mself\u001b[0m\u001b[1;33m.\u001b[0m\u001b[0mfit\u001b[0m\u001b[1;33m(\u001b[0m\u001b[0mX\u001b[0m\u001b[1;33m,\u001b[0m \u001b[1;33m**\u001b[0m\u001b[0mfit_params\u001b[0m\u001b[1;33m)\u001b[0m\u001b[1;33m.\u001b[0m\u001b[0mtransform\u001b[0m\u001b[1;33m(\u001b[0m\u001b[0mX\u001b[0m\u001b[1;33m)\u001b[0m\u001b[1;33m\u001b[0m\u001b[1;33m\u001b[0m\u001b[0m\n\u001b[0m\u001b[0;32m    554\u001b[0m         \u001b[1;32melse\u001b[0m\u001b[1;33m:\u001b[0m\u001b[1;33m\u001b[0m\u001b[1;33m\u001b[0m\u001b[0m\n\u001b[0;32m    555\u001b[0m             \u001b[1;31m# fit method of arity 2 (supervised transformation)\u001b[0m\u001b[1;33m\u001b[0m\u001b[1;33m\u001b[0m\u001b[1;33m\u001b[0m\u001b[0m\n",
      "\u001b[1;32mC:\\ProgramData\\Anaconda3\\lib\\site-packages\\sklearn\\preprocessing\\data.py\u001b[0m in \u001b[0;36mtransform\u001b[1;34m(self, X)\u001b[0m\n\u001b[0;32m   1544\u001b[0m             \u001b[1;32melse\u001b[0m\u001b[1;33m:\u001b[0m\u001b[1;33m\u001b[0m\u001b[1;33m\u001b[0m\u001b[0m\n\u001b[0;32m   1545\u001b[0m                 XP = np.empty((n_samples, self.n_output_features_),\n\u001b[1;32m-> 1546\u001b[1;33m                               dtype=X.dtype, order=self.order)\n\u001b[0m\u001b[0;32m   1547\u001b[0m                 \u001b[1;32mfor\u001b[0m \u001b[0mi\u001b[0m\u001b[1;33m,\u001b[0m \u001b[0mcomb\u001b[0m \u001b[1;32min\u001b[0m \u001b[0menumerate\u001b[0m\u001b[1;33m(\u001b[0m\u001b[0mcombinations\u001b[0m\u001b[1;33m)\u001b[0m\u001b[1;33m:\u001b[0m\u001b[1;33m\u001b[0m\u001b[1;33m\u001b[0m\u001b[0m\n\u001b[0;32m   1548\u001b[0m                     \u001b[0mXP\u001b[0m\u001b[1;33m[\u001b[0m\u001b[1;33m:\u001b[0m\u001b[1;33m,\u001b[0m \u001b[0mi\u001b[0m\u001b[1;33m]\u001b[0m \u001b[1;33m=\u001b[0m \u001b[0mX\u001b[0m\u001b[1;33m[\u001b[0m\u001b[1;33m:\u001b[0m\u001b[1;33m,\u001b[0m \u001b[0mcomb\u001b[0m\u001b[1;33m]\u001b[0m\u001b[1;33m.\u001b[0m\u001b[0mprod\u001b[0m\u001b[1;33m(\u001b[0m\u001b[1;36m1\u001b[0m\u001b[1;33m)\u001b[0m\u001b[1;33m\u001b[0m\u001b[1;33m\u001b[0m\u001b[0m\n",
      "\u001b[1;31mMemoryError\u001b[0m: Unable to allocate 64.2 GiB for an array with shape (5400000, 1595) and data type float64"
     ]
    }
   ],
   "source": [
    "alphas = [0.1]\n",
    "scale_methods = [(None, None),('Standard', None),('Standard', 2),('MinMax', None),('MinMax', 2)]  #,('Log', None)\n",
    "\n",
    "\n",
    "for scale in scale_methods:\n",
    "    x_data_scaled = get_scaled_data(method=scale[0], p_degree=scale[1], input_data=x_data)    \n",
    "    print(\"\\n 변환유형 :{0}, Degree : {1}\".format(scale[0], scale[1]))\n",
    "    get_linear_reg_eval('Linear', params=alphas, x_data_n = x_data_scaled, y_target_n=y_target, verbose=False)"
   ]
  },
  {
   "cell_type": "code",
   "execution_count": 33,
   "metadata": {
    "scrolled": true
   },
   "outputs": [
    {
     "name": "stdout",
     "output_type": "stream",
     "text": [
      "\n",
      " 변환유형 :None, Degree : None\n",
      "#### Ridge ####\n",
      "rmse: 10.008179876567779\n",
      "\n",
      " 변환유형 :Standard, Degree : None\n",
      "#### Ridge ####\n",
      "rmse: 10.009031466054553\n",
      "\n",
      " 변환유형 :Standard, Degree : 2\n",
      "#### Ridge ####\n",
      "rmse: 4.844118768967771\n"
     ]
    },
    {
     "ename": "ValueError",
     "evalue": "Length of passed values is 44, index implies 8.",
     "output_type": "error",
     "traceback": [
      "\u001b[1;31m---------------------------------------------------------------------------\u001b[0m",
      "\u001b[1;31mValueError\u001b[0m                                Traceback (most recent call last)",
      "\u001b[1;32m<ipython-input-33-2b2c1f8e9b28>\u001b[0m in \u001b[0;36m<module>\u001b[1;34m\u001b[0m\n\u001b[0;32m      6\u001b[0m     \u001b[0mx_data_scaled\u001b[0m \u001b[1;33m=\u001b[0m \u001b[0mget_scaled_data\u001b[0m\u001b[1;33m(\u001b[0m\u001b[0mmethod\u001b[0m\u001b[1;33m=\u001b[0m\u001b[0mscale\u001b[0m\u001b[1;33m[\u001b[0m\u001b[1;36m0\u001b[0m\u001b[1;33m]\u001b[0m\u001b[1;33m,\u001b[0m \u001b[0mp_degree\u001b[0m\u001b[1;33m=\u001b[0m\u001b[0mscale\u001b[0m\u001b[1;33m[\u001b[0m\u001b[1;36m1\u001b[0m\u001b[1;33m]\u001b[0m\u001b[1;33m,\u001b[0m \u001b[0minput_data\u001b[0m\u001b[1;33m=\u001b[0m\u001b[0mx_data\u001b[0m\u001b[1;33m)\u001b[0m\u001b[1;33m\u001b[0m\u001b[1;33m\u001b[0m\u001b[0m\n\u001b[0;32m      7\u001b[0m     \u001b[0mprint\u001b[0m\u001b[1;33m(\u001b[0m\u001b[1;34m\"\\n 변환유형 :{0}, Degree : {1}\"\u001b[0m\u001b[1;33m.\u001b[0m\u001b[0mformat\u001b[0m\u001b[1;33m(\u001b[0m\u001b[0mscale\u001b[0m\u001b[1;33m[\u001b[0m\u001b[1;36m0\u001b[0m\u001b[1;33m]\u001b[0m\u001b[1;33m,\u001b[0m \u001b[0mscale\u001b[0m\u001b[1;33m[\u001b[0m\u001b[1;36m1\u001b[0m\u001b[1;33m]\u001b[0m\u001b[1;33m)\u001b[0m\u001b[1;33m)\u001b[0m\u001b[1;33m\u001b[0m\u001b[1;33m\u001b[0m\u001b[0m\n\u001b[1;32m----> 8\u001b[1;33m     \u001b[0mget_linear_reg_eval\u001b[0m\u001b[1;33m(\u001b[0m\u001b[1;34m'Ridge'\u001b[0m\u001b[1;33m,\u001b[0m \u001b[0mparams\u001b[0m\u001b[1;33m=\u001b[0m\u001b[0malphas\u001b[0m\u001b[1;33m,\u001b[0m \u001b[0mx_data_n\u001b[0m \u001b[1;33m=\u001b[0m \u001b[0mx_data_scaled\u001b[0m\u001b[1;33m,\u001b[0m \u001b[0my_target_n\u001b[0m\u001b[1;33m=\u001b[0m\u001b[0my_target\u001b[0m\u001b[1;33m,\u001b[0m \u001b[0mverbose\u001b[0m\u001b[1;33m=\u001b[0m\u001b[1;32mFalse\u001b[0m\u001b[1;33m)\u001b[0m\u001b[1;33m\u001b[0m\u001b[1;33m\u001b[0m\u001b[0m\n\u001b[0m",
      "\u001b[1;32m<ipython-input-31-7ef10923c64f>\u001b[0m in \u001b[0;36mget_linear_reg_eval\u001b[1;34m(model_name, params, x_data_n, y_target_n, verbose)\u001b[0m\n\u001b[0;32m     20\u001b[0m         \u001b[0mrmse\u001b[0m \u001b[1;33m=\u001b[0m \u001b[0mnp\u001b[0m\u001b[1;33m.\u001b[0m\u001b[0msqrt\u001b[0m\u001b[1;33m(\u001b[0m\u001b[0mmean_squared_error\u001b[0m\u001b[1;33m(\u001b[0m\u001b[0mnp\u001b[0m\u001b[1;33m.\u001b[0m\u001b[0mexpm1\u001b[0m\u001b[1;33m(\u001b[0m\u001b[0my_test\u001b[0m\u001b[1;33m)\u001b[0m\u001b[1;33m,\u001b[0m \u001b[0mnp\u001b[0m\u001b[1;33m.\u001b[0m\u001b[0mexpm1\u001b[0m\u001b[1;33m(\u001b[0m\u001b[0mpred\u001b[0m\u001b[1;33m)\u001b[0m\u001b[1;33m)\u001b[0m\u001b[1;33m)\u001b[0m\u001b[1;33m\u001b[0m\u001b[1;33m\u001b[0m\u001b[0m\n\u001b[0;32m     21\u001b[0m         \u001b[0mprint\u001b[0m\u001b[1;33m(\u001b[0m\u001b[1;34m'rmse:'\u001b[0m\u001b[1;33m,\u001b[0m\u001b[0mrmse\u001b[0m\u001b[1;33m)\u001b[0m\u001b[1;33m\u001b[0m\u001b[1;33m\u001b[0m\u001b[0m\n\u001b[1;32m---> 22\u001b[1;33m         \u001b[0mcoeff\u001b[0m \u001b[1;33m=\u001b[0m \u001b[0mpd\u001b[0m\u001b[1;33m.\u001b[0m\u001b[0mSeries\u001b[0m\u001b[1;33m(\u001b[0m\u001b[0mdata\u001b[0m\u001b[1;33m=\u001b[0m\u001b[0mmodel\u001b[0m\u001b[1;33m.\u001b[0m\u001b[0mcoef_\u001b[0m\u001b[1;33m,\u001b[0m \u001b[0mindex\u001b[0m\u001b[1;33m=\u001b[0m\u001b[0mx_data\u001b[0m\u001b[1;33m.\u001b[0m\u001b[0mcolumns\u001b[0m\u001b[1;33m)\u001b[0m\u001b[1;33m\u001b[0m\u001b[1;33m\u001b[0m\u001b[0m\n\u001b[0m\u001b[0;32m     23\u001b[0m     \u001b[1;32mreturn\u001b[0m \u001b[0mcoeff_df\u001b[0m\u001b[1;33m\u001b[0m\u001b[1;33m\u001b[0m\u001b[0m\n\u001b[0;32m     24\u001b[0m \u001b[1;33m\u001b[0m\u001b[0m\n",
      "\u001b[1;32mC:\\ProgramData\\Anaconda3\\lib\\site-packages\\pandas\\core\\series.py\u001b[0m in \u001b[0;36m__init__\u001b[1;34m(self, data, index, dtype, name, copy, fastpath)\u001b[0m\n\u001b[0;32m    290\u001b[0m                     \u001b[1;32mif\u001b[0m \u001b[0mlen\u001b[0m\u001b[1;33m(\u001b[0m\u001b[0mindex\u001b[0m\u001b[1;33m)\u001b[0m \u001b[1;33m!=\u001b[0m \u001b[0mlen\u001b[0m\u001b[1;33m(\u001b[0m\u001b[0mdata\u001b[0m\u001b[1;33m)\u001b[0m\u001b[1;33m:\u001b[0m\u001b[1;33m\u001b[0m\u001b[1;33m\u001b[0m\u001b[0m\n\u001b[0;32m    291\u001b[0m                         raise ValueError(\n\u001b[1;32m--> 292\u001b[1;33m                             \u001b[1;34mf\"Length of passed values is {len(data)}, \"\u001b[0m\u001b[1;33m\u001b[0m\u001b[1;33m\u001b[0m\u001b[0m\n\u001b[0m\u001b[0;32m    293\u001b[0m                             \u001b[1;34mf\"index implies {len(index)}.\"\u001b[0m\u001b[1;33m\u001b[0m\u001b[1;33m\u001b[0m\u001b[0m\n\u001b[0;32m    294\u001b[0m                         )\n",
      "\u001b[1;31mValueError\u001b[0m: Length of passed values is 44, index implies 8."
     ]
    }
   ],
   "source": [
    "alphas = [0.1]\n",
    "scale_methods = [(None, None),('Standard', None),('Standard', 2),('MinMax', None),('MinMax', 2)]  #,('Log', None)\n",
    "\n",
    "\n",
    "for scale in scale_methods:\n",
    "    x_data_scaled = get_scaled_data(method=scale[0], p_degree=scale[1], input_data=x_data)    \n",
    "    print(\"\\n 변환유형 :{0}, Degree : {1}\".format(scale[0], scale[1]))\n",
    "    get_linear_reg_eval('Ridge', params=alphas, x_data_n = x_data_scaled, y_target_n=y_target, verbose=False)"
   ]
  },
  {
   "cell_type": "code",
   "execution_count": 13,
   "metadata": {},
   "outputs": [
    {
     "name": "stdout",
     "output_type": "stream",
     "text": [
      "\n",
      " 변환유형 :None, Degree : None\n",
      "#### Lasso ####\n",
      "rmse: 23448123    2.915476\n",
      "53515540    3.301515\n",
      "34350215    3.316625\n",
      "19719386    1.816590\n",
      "15707714    2.774887\n",
      "              ...   \n",
      "6673919     2.645751\n",
      "21625153    2.915476\n",
      "22969383    3.962323\n",
      "47504116    2.121320\n",
      "36018700    5.000000\n",
      "Name: fare_amount, Length: 1620000, dtype: float64\n",
      "rmse: 23448123    2.915476\n",
      "53515540    3.301515\n",
      "34350215    3.316625\n",
      "19719386    1.816590\n",
      "15707714    2.774887\n",
      "              ...   \n",
      "6673919     2.645751\n",
      "21625153    2.915476\n",
      "22969383    3.962323\n",
      "47504116    2.121320\n",
      "36018700    5.000000\n",
      "Name: fare_amount, Length: 1620000, dtype: float64\n",
      "rmse: 23448123    2.915476\n",
      "53515540    3.301515\n",
      "34350215    3.316625\n",
      "19719386    1.816590\n",
      "15707714    2.774887\n",
      "              ...   \n",
      "6673919     2.645751\n",
      "21625153    2.915476\n",
      "22969383    3.962323\n",
      "47504116    2.121320\n",
      "36018700    5.000000\n",
      "Name: fare_amount, Length: 1620000, dtype: float64\n",
      "rmse: 23448123    2.915476\n",
      "53515540    3.301515\n",
      "34350215    3.316625\n",
      "19719386    1.816590\n",
      "15707714    2.774887\n",
      "              ...   \n",
      "6673919     2.645751\n",
      "21625153    2.915476\n",
      "22969383    3.962323\n",
      "47504116    2.121320\n",
      "36018700    5.000000\n",
      "Name: fare_amount, Length: 1620000, dtype: float64\n",
      "\n",
      " 변환유형 :Standard, Degree : None\n",
      "#### Lasso ####\n",
      "rmse: 23448123    2.915476\n",
      "53515540    3.301515\n",
      "34350215    3.316625\n",
      "19719386    1.816590\n",
      "15707714    2.774887\n",
      "              ...   \n",
      "6673919     2.645751\n",
      "21625153    2.915476\n",
      "22969383    3.962323\n",
      "47504116    2.121320\n",
      "36018700    5.000000\n",
      "Name: fare_amount, Length: 1620000, dtype: float64\n",
      "rmse: 23448123    2.915476\n",
      "53515540    3.301515\n",
      "34350215    3.316625\n",
      "19719386    1.816590\n",
      "15707714    2.774887\n",
      "              ...   \n",
      "6673919     2.645751\n",
      "21625153    2.915476\n",
      "22969383    3.962323\n",
      "47504116    2.121320\n",
      "36018700    5.000000\n",
      "Name: fare_amount, Length: 1620000, dtype: float64\n",
      "rmse: 23448123    2.915476\n",
      "53515540    3.301515\n",
      "34350215    3.316625\n",
      "19719386    1.816590\n",
      "15707714    2.774887\n",
      "              ...   \n",
      "6673919     2.645751\n",
      "21625153    2.915476\n",
      "22969383    3.962323\n",
      "47504116    2.121320\n",
      "36018700    5.000000\n",
      "Name: fare_amount, Length: 1620000, dtype: float64\n",
      "rmse: 23448123    2.915476\n",
      "53515540    3.301515\n",
      "34350215    3.316625\n",
      "19719386    1.816590\n",
      "15707714    2.774887\n",
      "              ...   \n",
      "6673919     2.645751\n",
      "21625153    2.915476\n",
      "22969383    3.962323\n",
      "47504116    2.121320\n",
      "36018700    5.000000\n",
      "Name: fare_amount, Length: 1620000, dtype: float64\n"
     ]
    },
    {
     "ename": "MemoryError",
     "evalue": "Unable to allocate 64.2 GiB for an array with shape (5400000, 1595) and data type float64",
     "output_type": "error",
     "traceback": [
      "\u001b[1;31m---------------------------------------------------------------------------\u001b[0m",
      "\u001b[1;31mMemoryError\u001b[0m                               Traceback (most recent call last)",
      "\u001b[1;32m<ipython-input-13-f76c1da1d7ea>\u001b[0m in \u001b[0;36m<module>\u001b[1;34m\u001b[0m\n\u001b[0;32m      1\u001b[0m \u001b[0malphas\u001b[0m \u001b[1;33m=\u001b[0m \u001b[1;33m[\u001b[0m\u001b[1;36m0.01\u001b[0m \u001b[1;33m,\u001b[0m \u001b[1;36m0.05\u001b[0m\u001b[1;33m,\u001b[0m \u001b[1;36m0.1\u001b[0m\u001b[1;33m,\u001b[0m \u001b[1;36m0.2\u001b[0m\u001b[1;33m]\u001b[0m\u001b[1;33m\u001b[0m\u001b[1;33m\u001b[0m\u001b[0m\n\u001b[0;32m      2\u001b[0m \u001b[1;32mfor\u001b[0m \u001b[0mscale\u001b[0m \u001b[1;32min\u001b[0m \u001b[0mscale_methods\u001b[0m\u001b[1;33m:\u001b[0m\u001b[1;33m\u001b[0m\u001b[1;33m\u001b[0m\u001b[0m\n\u001b[1;32m----> 3\u001b[1;33m     \u001b[0mx_data_scaled\u001b[0m \u001b[1;33m=\u001b[0m \u001b[0mget_scaled_data\u001b[0m\u001b[1;33m(\u001b[0m\u001b[0mmethod\u001b[0m\u001b[1;33m=\u001b[0m\u001b[0mscale\u001b[0m\u001b[1;33m[\u001b[0m\u001b[1;36m0\u001b[0m\u001b[1;33m]\u001b[0m\u001b[1;33m,\u001b[0m \u001b[0mp_degree\u001b[0m\u001b[1;33m=\u001b[0m\u001b[0mscale\u001b[0m\u001b[1;33m[\u001b[0m\u001b[1;36m1\u001b[0m\u001b[1;33m]\u001b[0m\u001b[1;33m,\u001b[0m \u001b[0minput_data\u001b[0m\u001b[1;33m=\u001b[0m\u001b[0mx_data\u001b[0m\u001b[1;33m)\u001b[0m\u001b[1;33m\u001b[0m\u001b[1;33m\u001b[0m\u001b[0m\n\u001b[0m\u001b[0;32m      4\u001b[0m     \u001b[0mprint\u001b[0m\u001b[1;33m(\u001b[0m\u001b[1;34m\"\\n 변환유형 :{0}, Degree : {1}\"\u001b[0m\u001b[1;33m.\u001b[0m\u001b[0mformat\u001b[0m\u001b[1;33m(\u001b[0m\u001b[0mscale\u001b[0m\u001b[1;33m[\u001b[0m\u001b[1;36m0\u001b[0m\u001b[1;33m]\u001b[0m\u001b[1;33m,\u001b[0m \u001b[0mscale\u001b[0m\u001b[1;33m[\u001b[0m\u001b[1;36m1\u001b[0m\u001b[1;33m]\u001b[0m\u001b[1;33m)\u001b[0m\u001b[1;33m)\u001b[0m\u001b[1;33m\u001b[0m\u001b[1;33m\u001b[0m\u001b[0m\n\u001b[0;32m      5\u001b[0m     \u001b[0mget_linear_reg_eval\u001b[0m\u001b[1;33m(\u001b[0m\u001b[1;34m'Lasso'\u001b[0m\u001b[1;33m,\u001b[0m \u001b[0mparams\u001b[0m\u001b[1;33m=\u001b[0m\u001b[0malphas\u001b[0m\u001b[1;33m,\u001b[0m \u001b[0mx_data_n\u001b[0m \u001b[1;33m=\u001b[0m \u001b[0mx_data_scaled\u001b[0m\u001b[1;33m,\u001b[0m \u001b[0my_target_n\u001b[0m\u001b[1;33m=\u001b[0m\u001b[0my_target\u001b[0m\u001b[1;33m,\u001b[0m \u001b[0mverbose\u001b[0m\u001b[1;33m=\u001b[0m\u001b[1;32mFalse\u001b[0m\u001b[1;33m)\u001b[0m\u001b[1;33m\u001b[0m\u001b[1;33m\u001b[0m\u001b[0m\n",
      "\u001b[1;32m<ipython-input-7-d1f80f539ee3>\u001b[0m in \u001b[0;36mget_scaled_data\u001b[1;34m(method, p_degree, input_data)\u001b[0m\n\u001b[0;32m     11\u001b[0m \u001b[1;33m\u001b[0m\u001b[0m\n\u001b[0;32m     12\u001b[0m     \u001b[1;32mif\u001b[0m \u001b[0mp_degree\u001b[0m \u001b[1;33m!=\u001b[0m \u001b[1;32mNone\u001b[0m\u001b[1;33m:\u001b[0m\u001b[1;33m\u001b[0m\u001b[1;33m\u001b[0m\u001b[0m\n\u001b[1;32m---> 13\u001b[1;33m         \u001b[0mscaled_data\u001b[0m \u001b[1;33m=\u001b[0m \u001b[0mPolynomialFeatures\u001b[0m\u001b[1;33m(\u001b[0m\u001b[0mdegree\u001b[0m\u001b[1;33m=\u001b[0m\u001b[0mp_degree\u001b[0m\u001b[1;33m,\u001b[0m \u001b[0minclude_bias\u001b[0m\u001b[1;33m=\u001b[0m\u001b[1;32mFalse\u001b[0m\u001b[1;33m)\u001b[0m\u001b[1;33m.\u001b[0m\u001b[0mfit_transform\u001b[0m\u001b[1;33m(\u001b[0m\u001b[0mscaled_data\u001b[0m\u001b[1;33m)\u001b[0m\u001b[1;33m\u001b[0m\u001b[1;33m\u001b[0m\u001b[0m\n\u001b[0m\u001b[0;32m     14\u001b[0m \u001b[1;33m\u001b[0m\u001b[0m\n\u001b[0;32m     15\u001b[0m     \u001b[1;32mreturn\u001b[0m \u001b[0mscaled_data\u001b[0m\u001b[1;33m\u001b[0m\u001b[1;33m\u001b[0m\u001b[0m\n",
      "\u001b[1;32mC:\\ProgramData\\Anaconda3\\lib\\site-packages\\sklearn\\base.py\u001b[0m in \u001b[0;36mfit_transform\u001b[1;34m(self, X, y, **fit_params)\u001b[0m\n\u001b[0;32m    551\u001b[0m         \u001b[1;32mif\u001b[0m \u001b[0my\u001b[0m \u001b[1;32mis\u001b[0m \u001b[1;32mNone\u001b[0m\u001b[1;33m:\u001b[0m\u001b[1;33m\u001b[0m\u001b[1;33m\u001b[0m\u001b[0m\n\u001b[0;32m    552\u001b[0m             \u001b[1;31m# fit method of arity 1 (unsupervised transformation)\u001b[0m\u001b[1;33m\u001b[0m\u001b[1;33m\u001b[0m\u001b[1;33m\u001b[0m\u001b[0m\n\u001b[1;32m--> 553\u001b[1;33m             \u001b[1;32mreturn\u001b[0m \u001b[0mself\u001b[0m\u001b[1;33m.\u001b[0m\u001b[0mfit\u001b[0m\u001b[1;33m(\u001b[0m\u001b[0mX\u001b[0m\u001b[1;33m,\u001b[0m \u001b[1;33m**\u001b[0m\u001b[0mfit_params\u001b[0m\u001b[1;33m)\u001b[0m\u001b[1;33m.\u001b[0m\u001b[0mtransform\u001b[0m\u001b[1;33m(\u001b[0m\u001b[0mX\u001b[0m\u001b[1;33m)\u001b[0m\u001b[1;33m\u001b[0m\u001b[1;33m\u001b[0m\u001b[0m\n\u001b[0m\u001b[0;32m    554\u001b[0m         \u001b[1;32melse\u001b[0m\u001b[1;33m:\u001b[0m\u001b[1;33m\u001b[0m\u001b[1;33m\u001b[0m\u001b[0m\n\u001b[0;32m    555\u001b[0m             \u001b[1;31m# fit method of arity 2 (supervised transformation)\u001b[0m\u001b[1;33m\u001b[0m\u001b[1;33m\u001b[0m\u001b[1;33m\u001b[0m\u001b[0m\n",
      "\u001b[1;32mC:\\ProgramData\\Anaconda3\\lib\\site-packages\\sklearn\\preprocessing\\data.py\u001b[0m in \u001b[0;36mtransform\u001b[1;34m(self, X)\u001b[0m\n\u001b[0;32m   1544\u001b[0m             \u001b[1;32melse\u001b[0m\u001b[1;33m:\u001b[0m\u001b[1;33m\u001b[0m\u001b[1;33m\u001b[0m\u001b[0m\n\u001b[0;32m   1545\u001b[0m                 XP = np.empty((n_samples, self.n_output_features_),\n\u001b[1;32m-> 1546\u001b[1;33m                               dtype=X.dtype, order=self.order)\n\u001b[0m\u001b[0;32m   1547\u001b[0m                 \u001b[1;32mfor\u001b[0m \u001b[0mi\u001b[0m\u001b[1;33m,\u001b[0m \u001b[0mcomb\u001b[0m \u001b[1;32min\u001b[0m \u001b[0menumerate\u001b[0m\u001b[1;33m(\u001b[0m\u001b[0mcombinations\u001b[0m\u001b[1;33m)\u001b[0m\u001b[1;33m:\u001b[0m\u001b[1;33m\u001b[0m\u001b[1;33m\u001b[0m\u001b[0m\n\u001b[0;32m   1548\u001b[0m                     \u001b[0mXP\u001b[0m\u001b[1;33m[\u001b[0m\u001b[1;33m:\u001b[0m\u001b[1;33m,\u001b[0m \u001b[0mi\u001b[0m\u001b[1;33m]\u001b[0m \u001b[1;33m=\u001b[0m \u001b[0mX\u001b[0m\u001b[1;33m[\u001b[0m\u001b[1;33m:\u001b[0m\u001b[1;33m,\u001b[0m \u001b[0mcomb\u001b[0m\u001b[1;33m]\u001b[0m\u001b[1;33m.\u001b[0m\u001b[0mprod\u001b[0m\u001b[1;33m(\u001b[0m\u001b[1;36m1\u001b[0m\u001b[1;33m)\u001b[0m\u001b[1;33m\u001b[0m\u001b[1;33m\u001b[0m\u001b[0m\n",
      "\u001b[1;31mMemoryError\u001b[0m: Unable to allocate 64.2 GiB for an array with shape (5400000, 1595) and data type float64"
     ]
    }
   ],
   "source": [
    "alphas = [0.01 , 0.05, 0.1, 0.2]\n",
    "for scale in scale_methods:\n",
    "    x_data_scaled = get_scaled_data(method=scale[0], p_degree=scale[1], input_data=x_data)    \n",
    "    print(\"\\n 변환유형 :{0}, Degree : {1}\".format(scale[0], scale[1]))\n",
    "    get_linear_reg_eval('Lasso', params=alphas, x_data_n = x_data_scaled, y_target_n=y_target, verbose=False)"
   ]
  },
  {
   "cell_type": "code",
   "execution_count": 35,
   "metadata": {
    "scrolled": true
   },
   "outputs": [
    {
     "name": "stdout",
     "output_type": "stream",
     "text": [
      "\n",
      " 변환유형 :None, Degree : None\n",
      "#### ElasticNet ####\n",
      "rmse: 8.856050260390042\n",
      "rmse: 9.731776107883773\n",
      "rmse: 9.750489754873628\n",
      "rmse: 9.78740214810682\n",
      "\n",
      " 변환유형 :Standard, Degree : None\n",
      "#### ElasticNet ####\n",
      "rmse: 9.010229718366672\n",
      "rmse: 7.189570652064134\n",
      "rmse: 6.103845131348407\n",
      "rmse: 6.154315383863184\n",
      "\n",
      " 변환유형 :Standard, Degree : 2\n",
      "#### ElasticNet ####\n",
      "rmse: 4.647852138869886\n"
     ]
    },
    {
     "ename": "ValueError",
     "evalue": "Length of passed values is 44, index implies 8.",
     "output_type": "error",
     "traceback": [
      "\u001b[1;31m---------------------------------------------------------------------------\u001b[0m",
      "\u001b[1;31mValueError\u001b[0m                                Traceback (most recent call last)",
      "\u001b[1;32m<ipython-input-35-8678eb8d4596>\u001b[0m in \u001b[0;36m<module>\u001b[1;34m\u001b[0m\n\u001b[0;32m      3\u001b[0m     \u001b[0mx_data_scaled\u001b[0m \u001b[1;33m=\u001b[0m \u001b[0mget_scaled_data\u001b[0m\u001b[1;33m(\u001b[0m\u001b[0mmethod\u001b[0m\u001b[1;33m=\u001b[0m\u001b[0mscale\u001b[0m\u001b[1;33m[\u001b[0m\u001b[1;36m0\u001b[0m\u001b[1;33m]\u001b[0m\u001b[1;33m,\u001b[0m \u001b[0mp_degree\u001b[0m\u001b[1;33m=\u001b[0m\u001b[0mscale\u001b[0m\u001b[1;33m[\u001b[0m\u001b[1;36m1\u001b[0m\u001b[1;33m]\u001b[0m\u001b[1;33m,\u001b[0m \u001b[0minput_data\u001b[0m\u001b[1;33m=\u001b[0m\u001b[0mx_data\u001b[0m\u001b[1;33m)\u001b[0m\u001b[1;33m\u001b[0m\u001b[1;33m\u001b[0m\u001b[0m\n\u001b[0;32m      4\u001b[0m     \u001b[0mprint\u001b[0m\u001b[1;33m(\u001b[0m\u001b[1;34m\"\\n 변환유형 :{0}, Degree : {1}\"\u001b[0m\u001b[1;33m.\u001b[0m\u001b[0mformat\u001b[0m\u001b[1;33m(\u001b[0m\u001b[0mscale\u001b[0m\u001b[1;33m[\u001b[0m\u001b[1;36m0\u001b[0m\u001b[1;33m]\u001b[0m\u001b[1;33m,\u001b[0m \u001b[0mscale\u001b[0m\u001b[1;33m[\u001b[0m\u001b[1;36m1\u001b[0m\u001b[1;33m]\u001b[0m\u001b[1;33m)\u001b[0m\u001b[1;33m)\u001b[0m\u001b[1;33m\u001b[0m\u001b[1;33m\u001b[0m\u001b[0m\n\u001b[1;32m----> 5\u001b[1;33m     \u001b[0mget_linear_reg_eval\u001b[0m\u001b[1;33m(\u001b[0m\u001b[1;34m'ElasticNet'\u001b[0m\u001b[1;33m,\u001b[0m \u001b[0mparams\u001b[0m\u001b[1;33m=\u001b[0m\u001b[0malphas\u001b[0m\u001b[1;33m,\u001b[0m \u001b[0mx_data_n\u001b[0m \u001b[1;33m=\u001b[0m \u001b[0mx_data_scaled\u001b[0m\u001b[1;33m,\u001b[0m \u001b[0my_target_n\u001b[0m\u001b[1;33m=\u001b[0m\u001b[0my_target\u001b[0m\u001b[1;33m,\u001b[0m \u001b[0mverbose\u001b[0m\u001b[1;33m=\u001b[0m\u001b[1;32mFalse\u001b[0m\u001b[1;33m)\u001b[0m\u001b[1;33m\u001b[0m\u001b[1;33m\u001b[0m\u001b[0m\n\u001b[0m",
      "\u001b[1;32m<ipython-input-31-7ef10923c64f>\u001b[0m in \u001b[0;36mget_linear_reg_eval\u001b[1;34m(model_name, params, x_data_n, y_target_n, verbose)\u001b[0m\n\u001b[0;32m     20\u001b[0m         \u001b[0mrmse\u001b[0m \u001b[1;33m=\u001b[0m \u001b[0mnp\u001b[0m\u001b[1;33m.\u001b[0m\u001b[0msqrt\u001b[0m\u001b[1;33m(\u001b[0m\u001b[0mmean_squared_error\u001b[0m\u001b[1;33m(\u001b[0m\u001b[0mnp\u001b[0m\u001b[1;33m.\u001b[0m\u001b[0mexpm1\u001b[0m\u001b[1;33m(\u001b[0m\u001b[0my_test\u001b[0m\u001b[1;33m)\u001b[0m\u001b[1;33m,\u001b[0m \u001b[0mnp\u001b[0m\u001b[1;33m.\u001b[0m\u001b[0mexpm1\u001b[0m\u001b[1;33m(\u001b[0m\u001b[0mpred\u001b[0m\u001b[1;33m)\u001b[0m\u001b[1;33m)\u001b[0m\u001b[1;33m)\u001b[0m\u001b[1;33m\u001b[0m\u001b[1;33m\u001b[0m\u001b[0m\n\u001b[0;32m     21\u001b[0m         \u001b[0mprint\u001b[0m\u001b[1;33m(\u001b[0m\u001b[1;34m'rmse:'\u001b[0m\u001b[1;33m,\u001b[0m\u001b[0mrmse\u001b[0m\u001b[1;33m)\u001b[0m\u001b[1;33m\u001b[0m\u001b[1;33m\u001b[0m\u001b[0m\n\u001b[1;32m---> 22\u001b[1;33m         \u001b[0mcoeff\u001b[0m \u001b[1;33m=\u001b[0m \u001b[0mpd\u001b[0m\u001b[1;33m.\u001b[0m\u001b[0mSeries\u001b[0m\u001b[1;33m(\u001b[0m\u001b[0mdata\u001b[0m\u001b[1;33m=\u001b[0m\u001b[0mmodel\u001b[0m\u001b[1;33m.\u001b[0m\u001b[0mcoef_\u001b[0m\u001b[1;33m,\u001b[0m \u001b[0mindex\u001b[0m\u001b[1;33m=\u001b[0m\u001b[0mx_data\u001b[0m\u001b[1;33m.\u001b[0m\u001b[0mcolumns\u001b[0m\u001b[1;33m)\u001b[0m\u001b[1;33m\u001b[0m\u001b[1;33m\u001b[0m\u001b[0m\n\u001b[0m\u001b[0;32m     23\u001b[0m     \u001b[1;32mreturn\u001b[0m \u001b[0mcoeff_df\u001b[0m\u001b[1;33m\u001b[0m\u001b[1;33m\u001b[0m\u001b[0m\n\u001b[0;32m     24\u001b[0m \u001b[1;33m\u001b[0m\u001b[0m\n",
      "\u001b[1;32mC:\\ProgramData\\Anaconda3\\lib\\site-packages\\pandas\\core\\series.py\u001b[0m in \u001b[0;36m__init__\u001b[1;34m(self, data, index, dtype, name, copy, fastpath)\u001b[0m\n\u001b[0;32m    290\u001b[0m                     \u001b[1;32mif\u001b[0m \u001b[0mlen\u001b[0m\u001b[1;33m(\u001b[0m\u001b[0mindex\u001b[0m\u001b[1;33m)\u001b[0m \u001b[1;33m!=\u001b[0m \u001b[0mlen\u001b[0m\u001b[1;33m(\u001b[0m\u001b[0mdata\u001b[0m\u001b[1;33m)\u001b[0m\u001b[1;33m:\u001b[0m\u001b[1;33m\u001b[0m\u001b[1;33m\u001b[0m\u001b[0m\n\u001b[0;32m    291\u001b[0m                         raise ValueError(\n\u001b[1;32m--> 292\u001b[1;33m                             \u001b[1;34mf\"Length of passed values is {len(data)}, \"\u001b[0m\u001b[1;33m\u001b[0m\u001b[1;33m\u001b[0m\u001b[0m\n\u001b[0m\u001b[0;32m    293\u001b[0m                             \u001b[1;34mf\"index implies {len(index)}.\"\u001b[0m\u001b[1;33m\u001b[0m\u001b[1;33m\u001b[0m\u001b[0m\n\u001b[0;32m    294\u001b[0m                         )\n",
      "\u001b[1;31mValueError\u001b[0m: Length of passed values is 44, index implies 8."
     ]
    }
   ],
   "source": [
    "alphas = [0.01 , 0.05, 0.1, 0.2]\n",
    "for scale in scale_methods:\n",
    "    x_data_scaled = get_scaled_data(method=scale[0], p_degree=scale[1], input_data=x_data)    \n",
    "    print(\"\\n 변환유형 :{0}, Degree : {1}\".format(scale[0], scale[1]))\n",
    "    get_linear_reg_eval('ElasticNet', params=alphas, x_data_n = x_data_scaled, y_target_n=y_target, verbose=False)"
   ]
  },
  {
   "cell_type": "code",
   "execution_count": null,
   "metadata": {},
   "outputs": [],
   "source": []
  }
 ],
 "metadata": {
  "kernelspec": {
   "display_name": "Python 3",
   "language": "python",
   "name": "python3"
  },
  "language_info": {
   "codemirror_mode": {
    "name": "ipython",
    "version": 3
   },
   "file_extension": ".py",
   "mimetype": "text/x-python",
   "name": "python",
   "nbconvert_exporter": "python",
   "pygments_lexer": "ipython3",
   "version": "3.7.6"
  }
 },
 "nbformat": 4,
 "nbformat_minor": 4
}
